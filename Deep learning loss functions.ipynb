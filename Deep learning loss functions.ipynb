{
 "cells": [
  {
   "cell_type": "markdown",
   "metadata": {},
   "source": [
    "# Deep learning loss functions"
   ]
  },
  {
   "cell_type": "markdown",
   "metadata": {},
   "source": [
    "Inline plots:"
   ]
  },
  {
   "cell_type": "code",
   "execution_count": 1,
   "metadata": {},
   "outputs": [],
   "source": [
    "%matplotlib inline"
   ]
  },
  {
   "cell_type": "markdown",
   "metadata": {},
   "source": [
    "We want to use `Theano` so that we can use it's auto-differentiation, since I'm too lazy to work out the derivatives of these functions by hand! :)\n",
    "\n",
    "We also want to avoid the overhead of using the GPU for such small tasks, so tell Theano to use the CPU:"
   ]
  },
  {
   "cell_type": "code",
   "execution_count": 2,
   "metadata": {},
   "outputs": [],
   "source": [
    "import os"
   ]
  },
  {
   "cell_type": "code",
   "execution_count": 3,
   "metadata": {},
   "outputs": [],
   "source": [
    "import numpy as np\n",
    "import pandas as pd\n",
    "import torch, torch.nn as nn, torch.nn.functional as F\n",
    "from matplotlib import pyplot as plt\n",
    "import seaborn as sns\n",
    "sns.set()\n",
    "\n",
    "EPSILON = 1.0e-12\n",
    "\n",
    "SAVE_PLOTS = True"
   ]
  },
  {
   "cell_type": "markdown",
   "metadata": {},
   "source": [
    "### Classification: softmax non-linearity with negative log loss\n",
    "\n",
    "Define a convenience function for computing the gradient of negative log loss with softmax. We use PyTorch to do it as it handles computing the gradient for us."
   ]
  },
  {
   "cell_type": "code",
   "execution_count": 4,
   "metadata": {},
   "outputs": [],
   "source": [
    "# Softmax function\n",
    "def f_softmax(logits, axis=1):\n",
    "    ex = np.exp(logits)\n",
    "    return ex / ex.sum(axis=axis, keepdims=True)\n",
    "\n",
    "# Classification loss: negative log of softmax\n",
    "def f_clf_loss(logits, axis=1):\n",
    "    t_logits = torch.tensor(logits, requires_grad=True)\n",
    "    # Compute negative log-softmax\n",
    "    return -F.log_softmax(t_logits, dim=axis).detach().numpy()\n",
    "\n",
    "# Gadient of classification loss\n",
    "def f_clf_loss_grad(logits, target, axis=1):\n",
    "    t_logits = torch.tensor(logits, requires_grad=True)\n",
    "    t_targets = torch.tensor(target, dtype=torch.int64)\n",
    "    # Compute cross_entropy loss\n",
    "    loss = F.cross_entropy(t_logits, t_targets, reduction='sum')\n",
    "    # Sum and compute gradient\n",
    "    loss.backward()\n",
    "    return t_logits.grad.detach().numpy()\n"
   ]
  },
  {
   "cell_type": "markdown",
   "metadata": {},
   "source": [
    "Apply:"
   ]
  },
  {
   "cell_type": "code",
   "execution_count": 5,
   "metadata": {},
   "outputs": [
    {
     "data": {
      "image/png": "[encoded data removed]",
      "text/plain": [
       "<Figure size 360x360 with 1 Axes>"
      ]
     },
     "metadata": {},
     "output_type": "display_data"
    }
   ],
   "source": [
    "# Compute the range of values that we wish to explore\n",
    "xs = np.arange(-5.0, 5.001, 1.0/128.0).astype(np.float32)\n",
    "\n",
    "# Build an array of logit vector, where each logit vector is for a 2-class problem with the values [0, x[i]]\n",
    "logits = np.stack([np.zeros_like(xs), xs], axis=1)\n",
    "\n",
    "# Use softmax to compute predicted probabilities:\n",
    "clf_q = f_softmax(logits)\n",
    "\n",
    "# Compute negative log loss of softmax:\n",
    "clf_loss = f_clf_loss(logits)\n",
    "\n",
    "# Compute gradient of negative log loss of softmax with respect to the logits:\n",
    "clf_loss_grad = f_clf_loss_grad(logits, np.ones_like(xs))\n",
    "\n",
    "plt.figure(figsize=(5, 5))\n",
    "plt.xlim(-5.0, 5.0)\n",
    "plt.ylim(-5.0, 5.0)\n",
    "line_p, = plt.plot(xs, np.ones_like(xs), label=r'$p$')\n",
    "line_q, = plt.plot(xs, clf_q[:, 1], label=r'$q = softmax(X)$')\n",
    "line_loss, = plt.plot(xs, clf_loss[:, 1], label=r'loss $c =-ln(q)$')\n",
    "line_loss_grad, = plt.plot(xs, clf_loss_grad[:, 1], label=r'grad loss $\\frac{dc}{dX_1}$')\n",
    "plt.legend(handles=[line_p, line_q, line_loss, line_loss_grad])\n",
    "plt.xlabel(r'$X_1$')\n",
    "plt.show()\n",
    "\n",
    "if SAVE_PLOTS:\n",
    "    plt.figure(figsize=(5, 5))\n",
    "    plt.xlim(-5.0, 5.0)\n",
    "    plt.ylim(-5.0, 5.0)\n",
    "    line_p, = plt.plot(xs, np.ones_like(xs), label=r'$p$')\n",
    "    line_q, = plt.plot(xs, clf_q[:, 1], label=r'$q = softmax(X)$')\n",
    "    plt.legend(handles=[line_p, line_q])\n",
    "    plt.xlabel(r'$X_1$')\n",
    "    plt.savefig('clf_loss_0.png', dpi=600)\n",
    "    plt.close()\n",
    "\n",
    "    plt.figure(figsize=(5, 5))\n",
    "    plt.xlim(-5.0, 5.0)\n",
    "    plt.ylim(-5.0, 5.0)\n",
    "    line_p, = plt.plot(xs, np.ones_like(xs), label=r'$p$')\n",
    "    line_q, = plt.plot(xs, clf_q[:, 1], label=r'$q = softmax(X)$')\n",
    "    line_loss, = plt.plot(xs, clf_loss[:, 1], label=r'loss $c =-ln(q)$')\n",
    "    plt.legend(handles=[line_p, line_q, line_loss])\n",
    "    plt.xlabel(r'$X_1$')\n",
    "    plt.savefig('clf_loss_1.png', dpi=600)\n",
    "    plt.close()\n",
    "\n",
    "    plt.figure(figsize=(5, 5))\n",
    "    plt.xlim(-5.0, 5.0)\n",
    "    plt.ylim(-5.0, 5.0)\n",
    "    line_p, = plt.plot(xs, np.ones_like(xs), label=r'$p$')\n",
    "    line_q, = plt.plot(xs, clf_q[:, 1], label=r'$q = softmax(X)$')\n",
    "    line_loss, = plt.plot(xs, clf_loss[:, 1], label=r'loss $c =-ln(q)$')\n",
    "    line_loss_grad, = plt.plot(xs, clf_loss_grad[:, 1], label=r'grad loss $\\frac{dc}{dX_1}$')\n",
    "    plt.legend(handles=[line_p, line_q, line_loss, line_loss_grad])\n",
    "    plt.xlabel(r'$X_1$')\n",
    "    plt.savefig('clf_loss_2.png', dpi=600)\n",
    "    plt.close()"
   ]
  },
  {
   "cell_type": "markdown",
   "metadata": {},
   "source": [
    "### Probability regression: sigmoid non-linearity with binary cross-entropy\n",
    "\n",
    "First define functions for computing sigmoid and binary cross-entropy:"
   ]
  },
  {
   "cell_type": "code",
   "execution_count": 6,
   "metadata": {},
   "outputs": [],
   "source": [
    "# Sigmoid definition\n",
    "def f_sigmoid(x):\n",
    "    return 1.0 / (1.0 + np.exp(-x))\n",
    "\n",
    "def f_prob_regr_loss(q, p):\n",
    "    return \n",
    "\n",
    "# Binary cross-entropy of sigmoid\n",
    "def f_prob_regr_loss(logits, target):\n",
    "    t_logits = torch.tensor(logits, requires_grad=True)\n",
    "    t_target = torch.tensor(target, requires_grad=True)\n",
    "    loss = -F.binary_cross_entropy_with_logits(t_logits, t_target)\n",
    "    return loss\n",
    "\n",
    "# Gadient of binary cross-entropy of sigmoid\n",
    "def f_prob_regr_loss_grad(logits, target, axis=0):\n",
    "    t_logits = torch.tensor(logits, requires_grad=True)\n",
    "    t_target = torch.tensor(target)\n",
    "    # Compute binary cross-entropy of sigmoid\n",
    "    loss = -F.binary_cross_entropy_with_logits(t_logits, t_target)\n",
    "    # Sum and compute gradient\n",
    "    loss.sum().backward()\n",
    "    return t_logits.grad.detach().numpy()\n"
   ]
  },
  {
   "cell_type": "code",
   "execution_count": 7,
   "metadata": {},
   "outputs": [
    {
     "data": {
      "image/png": "[encoded data removed]",
      "text/plain": [
       "<Figure size 360x360 with 1 Axes>"
      ]
     },
     "metadata": {},
     "output_type": "display_data"
    }
   ],
   "source": [
    "# Compute the range of values that we wish to explore\n",
    "xs = np.arange(-5.0, 5.0, 0.01).astype(np.float32)\n",
    "\n",
    "# Use sigmoid to compute predicted probabilities:\n",
    "prob_regr_q = [f_sigmoid(x) for x in xs]\n",
    "\n",
    "# Compute binary cross-entropy of sigmoid:\n",
    "prob_regr_loss = [f_prob_regr_loss(x, 1.0) for x in xs]\n",
    "\n",
    "# Compute gradient of binary cross-entropy of sigmoid with respect to xs:\n",
    "prob_regr_loss_grad = [f_prob_regr_loss_grad(x, 1.0) for x in xs]\n",
    "\n",
    "plt.figure(figsize=(5,5))\n",
    "plt.xlim(-5.0, 5.0)\n",
    "plt.ylim(-5.0, 5.0)\n",
    "line_p, = plt.plot(xs, np.ones_like(xs), label=r'$p$')\n",
    "line_q, = plt.plot(xs, prob_regr_q, label=r'$q=sigmoid(X)$')\n",
    "line_loss, = plt.plot(xs, prob_regr_loss, label=r'loss $c =-ln(q)p-ln(1-q)(1-p)$')\n",
    "line_loss_grad, = plt.plot(xs, prob_regr_loss_grad, label=r'grad loss $\\frac{dc}{dx}$')\n",
    "plt.legend(handles=[line_p, line_q, line_loss, line_loss_grad])\n",
    "plt.xlabel(r'$x$')\n",
    "plt.show()\n",
    "\n",
    "if SAVE_PLOTS:\n",
    "    plt.figure(figsize=(5, 5))\n",
    "    plt.xlim(-5.0, 5.0)\n",
    "    plt.ylim(-5.0, 5.0)\n",
    "    line_p, = plt.plot(xs, np.ones_like(xs), label=r'$p$')\n",
    "    line_q, = plt.plot(xs, prob_regr_q, label=r'$q=sigmoid(X)$')\n",
    "    line_loss, = plt.plot(xs, prob_regr_loss, label=r'loss $c =-ln(q)p-ln(1-q)(1-p)$')\n",
    "    line_loss_grad, = plt.plot(xs, prob_regr_loss_grad, label=r'grad loss $\\frac{dc}{dx}$')\n",
    "    plt.legend(handles=[line_p, line_q, line_loss, line_loss_grad])\n",
    "    plt.xlabel(r'$x$')\n",
    "    plt.savefig('prob_regr_loss_2.png', dpi=600)\n",
    "    plt.close()\n"
   ]
  },
  {
   "cell_type": "markdown",
   "metadata": {},
   "source": [
    "## Regression: no non-linearity and squared error loss"
   ]
  },
  {
   "cell_type": "code",
   "execution_count": 8,
   "metadata": {},
   "outputs": [],
   "source": [
    "# Function for computing squared error loss\n",
    "def f_regr_sqr_loss(a, b):\n",
    "    return (a - b)**2\n",
    "\n",
    "# Gadient of squared error loss\n",
    "def f_regr_sqr_loss_grad(x_hat, x):\n",
    "    t_x_hat = torch.tensor(x_hat, requires_grad=True)\n",
    "    t_x = torch.tensor(x, requires_grad=True)\n",
    "    # Compute squared error\n",
    "    loss = -(t_x_hat - t_x)**2\n",
    "    # Sum and compute gradient\n",
    "    loss.sum().backward()\n",
    "    return t_x.grad.detach().numpy()"
   ]
  },
  {
   "cell_type": "code",
   "execution_count": 9,
   "metadata": {},
   "outputs": [
    {
     "data": {
      "image/png": "[encoded data removed]",
      "text/plain": [
       "<Figure size 360x360 with 1 Axes>"
      ]
     },
     "metadata": {},
     "output_type": "display_data"
    }
   ],
   "source": [
    "# Compute the range of values that we wish to explore\n",
    "xs = np.arange(-5.0, 5.0, 0.01).astype(np.float32)\n",
    "\n",
    "# Use squared error loss:\n",
    "regr_sqr_loss = [f_regr_sqr_loss(x, 0.0) for x in xs]\n",
    "\n",
    "# Compute gradient of squared error with respect to x-hat\n",
    "regr_sqr_loss_grad = [f_regr_sqr_loss_grad(x, 0.0) for x in xs]\n",
    "\n",
    "plt.figure(figsize=(5,5))\n",
    "plt.xlim(-5.0, 5.0)\n",
    "plt.ylim(-5.0, 5.0)\n",
    "line_loss, = plt.plot(xs, regr_sqr_loss, label=r'loss $c = (x - \\hat{x})^2$')\n",
    "line_loss_grad, = plt.plot(xs, regr_sqr_loss_grad, label=r'grad loss $\\frac{dc}{dx}$')\n",
    "plt.legend(handles=[line_loss, line_loss_grad])\n",
    "plt.xlabel(r'$x$')\n",
    "plt.show()\n",
    "\n",
    "if SAVE_PLOTS:\n",
    "    plt.figure(figsize=(5, 5))\n",
    "    plt.xlim(-5.0, 5.0)\n",
    "    plt.ylim(-5.0, 5.0)\n",
    "    line_loss, = plt.plot(xs, regr_sqr_loss, label=r'loss $c = (x - \\hat{x})^2$')\n",
    "    line_loss_grad, = plt.plot(xs, regr_sqr_loss_grad, label=r'grad loss $\\frac{dc}{dx}$')\n",
    "    plt.legend(handles=[line_loss, line_loss_grad])\n",
    "    plt.xlabel(r'$x$')\n",
    "    plt.savefig('regr_sqr_loss_2.png', dpi=600)\n",
    "    plt.close()\n"
   ]
  },
  {
   "cell_type": "markdown",
   "metadata": {},
   "source": [
    "## Regression: no non-linearity and Huber loss\n"
   ]
  },
  {
   "cell_type": "code",
   "execution_count": 10,
   "metadata": {},
   "outputs": [],
   "source": [
    "# Use PyTorch `smooth_l1_loss`\n",
    "def f_regr_huber_loss(predictions, targets, delta=1.0):\n",
    "    t_predictions = torch.tensor(predictions, requires_grad=True)\n",
    "    t_targets = torch.tensor(targets, requires_grad=True)\n",
    "    # Compute squared error\n",
    "    return F.smooth_l1_loss(t_predictions, t_targets)\n",
    "\n",
    "def f_regr_huber_loss_grad(predictions, targets, delta=1.0):\n",
    "    t_predictions = torch.tensor(predictions, requires_grad=True)\n",
    "    t_targets = torch.tensor(targets, requires_grad=True)\n",
    "    # Compute squared error\n",
    "    loss = F.smooth_l1_loss(t_predictions, t_targets)\n",
    "    # Sum and compute gradient\n",
    "    loss.sum().backward()\n",
    "    return t_predictions.grad.detach().numpy()\n"
   ]
  },
  {
   "cell_type": "code",
   "execution_count": 11,
   "metadata": {},
   "outputs": [
    {
     "data": {
      "image/png": "[encoded data removed]",
      "text/plain": [
       "<Figure size 360x360 with 1 Axes>"
      ]
     },
     "metadata": {},
     "output_type": "display_data"
    }
   ],
   "source": [
    "# Compute the range of values that we wish to explore\n",
    "xs = np.arange(-5.0, 5.0, 0.01).astype(np.float32)\n",
    "\n",
    "# Use Huber loss:\n",
    "regr_sqr_loss = [f_regr_huber_loss(x, 0.0) for x in xs]\n",
    "\n",
    "# Compute gradient of Huber loss with respect to x-hat\n",
    "regr_sqr_loss_grad = [f_regr_huber_loss_grad(x, 0.0) for x in xs]\n",
    "\n",
    "plt.figure(figsize=(5,5))\n",
    "plt.xlim(-5.0, 5.0)\n",
    "plt.ylim(-5.0, 5.0)\n",
    "line_loss, = plt.plot(xs, regr_sqr_loss, label=r'loss $c = huber(x, \\hat{x})$')\n",
    "line_loss_grad, = plt.plot(xs, regr_sqr_loss_grad, label=r'grad loss $\\frac{dc}{dx}$')\n",
    "plt.legend(handles=[line_loss, line_loss_grad])\n",
    "plt.xlabel(r'$x$')\n",
    "plt.show()\n",
    "\n",
    "if SAVE_PLOTS:\n",
    "    plt.figure(figsize=(5, 5))\n",
    "    plt.xlim(-5.0, 5.0)\n",
    "    plt.ylim(-5.0, 5.0)\n",
    "    line_loss, = plt.plot(xs, regr_sqr_loss, label=r'loss $c = huber(x, \\hat{x})$')\n",
    "    line_loss_grad, = plt.plot(xs, regr_sqr_loss_grad, label=r'grad loss $\\frac{dc}{dx}$')\n",
    "    plt.legend(handles=[line_loss, line_loss_grad])\n",
    "    plt.xlabel(r'$x$')\n",
    "    plt.savefig('regr_huber_loss_2.png', dpi=600)\n",
    "    plt.close()\n"
   ]
  },
  {
   "cell_type": "markdown",
   "metadata": {},
   "source": [
    "### Show the classification logits and probabilities in tables:"
   ]
  },
  {
   "cell_type": "code",
   "execution_count": 12,
   "metadata": {},
   "outputs": [
    {
     "data": {
      "text/html": [
       "<div>\n",
       "<style scoped>\n",
       "    .dataframe tbody tr th:only-of-type {\n",
       "        vertical-align: middle;\n",
       "    }\n",
       "\n",
       "    .dataframe tbody tr th {\n",
       "        vertical-align: top;\n",
       "    }\n",
       "\n",
       "    .dataframe thead th {\n",
       "        text-align: right;\n",
       "    }\n",
       "</style>\n",
       "<table border=\"1\" class=\"dataframe\">\n",
       "  <thead>\n",
       "    <tr style=\"text-align: right;\">\n",
       "      <th></th>\n",
       "      <th>$X_0$</th>\n",
       "      <th>$X_1$</th>\n",
       "    </tr>\n",
       "  </thead>\n",
       "  <tbody>\n",
       "    <tr>\n",
       "      <th>0</th>\n",
       "      <td>0.0</td>\n",
       "      <td>-5.0</td>\n",
       "    </tr>\n",
       "    <tr>\n",
       "      <th>1</th>\n",
       "      <td>0.0</td>\n",
       "      <td>-4.0</td>\n",
       "    </tr>\n",
       "    <tr>\n",
       "      <th>2</th>\n",
       "      <td>0.0</td>\n",
       "      <td>-3.0</td>\n",
       "    </tr>\n",
       "    <tr>\n",
       "      <th>3</th>\n",
       "      <td>0.0</td>\n",
       "      <td>-2.0</td>\n",
       "    </tr>\n",
       "    <tr>\n",
       "      <th>4</th>\n",
       "      <td>0.0</td>\n",
       "      <td>-1.0</td>\n",
       "    </tr>\n",
       "    <tr>\n",
       "      <th>5</th>\n",
       "      <td>0.0</td>\n",
       "      <td>0.0</td>\n",
       "    </tr>\n",
       "    <tr>\n",
       "      <th>6</th>\n",
       "      <td>0.0</td>\n",
       "      <td>1.0</td>\n",
       "    </tr>\n",
       "    <tr>\n",
       "      <th>7</th>\n",
       "      <td>0.0</td>\n",
       "      <td>2.0</td>\n",
       "    </tr>\n",
       "    <tr>\n",
       "      <th>8</th>\n",
       "      <td>0.0</td>\n",
       "      <td>3.0</td>\n",
       "    </tr>\n",
       "    <tr>\n",
       "      <th>9</th>\n",
       "      <td>0.0</td>\n",
       "      <td>4.0</td>\n",
       "    </tr>\n",
       "    <tr>\n",
       "      <th>10</th>\n",
       "      <td>0.0</td>\n",
       "      <td>5.0</td>\n",
       "    </tr>\n",
       "  </tbody>\n",
       "</table>\n",
       "</div>"
      ],
      "text/plain": [
       "    $X_0$  $X_1$\n",
       "0     0.0   -5.0\n",
       "1     0.0   -4.0\n",
       "2     0.0   -3.0\n",
       "3     0.0   -2.0\n",
       "4     0.0   -1.0\n",
       "5     0.0    0.0\n",
       "6     0.0    1.0\n",
       "7     0.0    2.0\n",
       "8     0.0    3.0\n",
       "9     0.0    4.0\n",
       "10    0.0    5.0"
      ]
     },
     "execution_count": 12,
     "metadata": {},
     "output_type": "execute_result"
    }
   ],
   "source": [
    "data=np.array(logits)\n",
    "pd.DataFrame(columns=['$X_0$', '$X_1$'], data=data[::128])"
   ]
  },
  {
   "cell_type": "code",
   "execution_count": 13,
   "metadata": {},
   "outputs": [
    {
     "data": {
      "text/html": [
       "<div>\n",
       "<style scoped>\n",
       "    .dataframe tbody tr th:only-of-type {\n",
       "        vertical-align: middle;\n",
       "    }\n",
       "\n",
       "    .dataframe tbody tr th {\n",
       "        vertical-align: top;\n",
       "    }\n",
       "\n",
       "    .dataframe thead th {\n",
       "        text-align: right;\n",
       "    }\n",
       "</style>\n",
       "<table border=\"1\" class=\"dataframe\">\n",
       "  <thead>\n",
       "    <tr style=\"text-align: right;\">\n",
       "      <th></th>\n",
       "      <th>$X_0$</th>\n",
       "      <th>$X_1$</th>\n",
       "      <th>$q_0$</th>\n",
       "      <th>$q_1$</th>\n",
       "    </tr>\n",
       "  </thead>\n",
       "  <tbody>\n",
       "    <tr>\n",
       "      <th>0</th>\n",
       "      <td>0.0</td>\n",
       "      <td>-5.0</td>\n",
       "      <td>0.993307</td>\n",
       "      <td>0.006693</td>\n",
       "    </tr>\n",
       "    <tr>\n",
       "      <th>1</th>\n",
       "      <td>0.0</td>\n",
       "      <td>-4.0</td>\n",
       "      <td>0.982014</td>\n",
       "      <td>0.017986</td>\n",
       "    </tr>\n",
       "    <tr>\n",
       "      <th>2</th>\n",
       "      <td>0.0</td>\n",
       "      <td>-3.0</td>\n",
       "      <td>0.952574</td>\n",
       "      <td>0.047426</td>\n",
       "    </tr>\n",
       "    <tr>\n",
       "      <th>3</th>\n",
       "      <td>0.0</td>\n",
       "      <td>-2.0</td>\n",
       "      <td>0.880797</td>\n",
       "      <td>0.119203</td>\n",
       "    </tr>\n",
       "    <tr>\n",
       "      <th>4</th>\n",
       "      <td>0.0</td>\n",
       "      <td>-1.0</td>\n",
       "      <td>0.731059</td>\n",
       "      <td>0.268941</td>\n",
       "    </tr>\n",
       "    <tr>\n",
       "      <th>5</th>\n",
       "      <td>0.0</td>\n",
       "      <td>0.0</td>\n",
       "      <td>0.500000</td>\n",
       "      <td>0.500000</td>\n",
       "    </tr>\n",
       "    <tr>\n",
       "      <th>6</th>\n",
       "      <td>0.0</td>\n",
       "      <td>1.0</td>\n",
       "      <td>0.268941</td>\n",
       "      <td>0.731059</td>\n",
       "    </tr>\n",
       "    <tr>\n",
       "      <th>7</th>\n",
       "      <td>0.0</td>\n",
       "      <td>2.0</td>\n",
       "      <td>0.119203</td>\n",
       "      <td>0.880797</td>\n",
       "    </tr>\n",
       "    <tr>\n",
       "      <th>8</th>\n",
       "      <td>0.0</td>\n",
       "      <td>3.0</td>\n",
       "      <td>0.047426</td>\n",
       "      <td>0.952574</td>\n",
       "    </tr>\n",
       "    <tr>\n",
       "      <th>9</th>\n",
       "      <td>0.0</td>\n",
       "      <td>4.0</td>\n",
       "      <td>0.017986</td>\n",
       "      <td>0.982014</td>\n",
       "    </tr>\n",
       "    <tr>\n",
       "      <th>10</th>\n",
       "      <td>0.0</td>\n",
       "      <td>5.0</td>\n",
       "      <td>0.006693</td>\n",
       "      <td>0.993307</td>\n",
       "    </tr>\n",
       "  </tbody>\n",
       "</table>\n",
       "</div>"
      ],
      "text/plain": [
       "    $X_0$  $X_1$     $q_0$     $q_1$\n",
       "0     0.0   -5.0  0.993307  0.006693\n",
       "1     0.0   -4.0  0.982014  0.017986\n",
       "2     0.0   -3.0  0.952574  0.047426\n",
       "3     0.0   -2.0  0.880797  0.119203\n",
       "4     0.0   -1.0  0.731059  0.268941\n",
       "5     0.0    0.0  0.500000  0.500000\n",
       "6     0.0    1.0  0.268941  0.731059\n",
       "7     0.0    2.0  0.119203  0.880797\n",
       "8     0.0    3.0  0.047426  0.952574\n",
       "9     0.0    4.0  0.017986  0.982014\n",
       "10    0.0    5.0  0.006693  0.993307"
      ]
     },
     "execution_count": 13,
     "metadata": {},
     "output_type": "execute_result"
    }
   ],
   "source": [
    "data=np.append(np.array(logits), np.array(clf_q), axis=1)\n",
    "pd.DataFrame(columns=['$X_0$', '$X_1$', '$q_0$', '$q_1$'], data=data[::128])"
   ]
  }
 ],
 "metadata": {
  "anaconda-cloud": {},
  "kernelspec": {
   "display_name": "Python 3",
   "language": "python",
   "name": "python3"
  },
  "language_info": {
   "codemirror_mode": {
    "name": "ipython",
    "version": 3
   },
   "file_extension": ".py",
   "mimetype": "text/x-python",
   "name": "python",
   "nbconvert_exporter": "python",
   "pygments_lexer": "ipython3",
   "version": "3.6.7"
  }
 },
 "nbformat": 4,
 "nbformat_minor": 1
}
